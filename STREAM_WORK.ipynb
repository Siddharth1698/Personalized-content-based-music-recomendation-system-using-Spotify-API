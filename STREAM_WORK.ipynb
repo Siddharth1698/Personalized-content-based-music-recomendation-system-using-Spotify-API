{
 "cells": [
  {
   "cell_type": "code",
   "execution_count": 1,
   "metadata": {},
   "outputs": [],
   "source": [
    "from pyspark.sql import SparkSession\n",
    "from pyspark.sql.functions import *\n",
    "from pyspark.ml.feature import Normalizer, StandardScaler\n",
    "\n",
    "import time\n",
    "\n",
    "kafka_topic_name = \"songTopic\"\n",
    "kafka_bootstrap_servers = 'localhost:9092'\n",
    "\n"
   ]
  },
  {
   "cell_type": "code",
   "execution_count": 2,
   "metadata": {},
   "outputs": [],
   "source": [
    "spark = SparkSession \\\n",
    "        .builder \\\n",
    "        .appName(\"Spotify Streaming Reccomendation System\") \\\n",
    "        .master(\"local[*]\") \\\n",
    "        .getOrCreate()\n",
    "\n",
    "spark.sparkContext.setLogLevel(\"ERROR\")\n",
    "\n",
    "    "
   ]
  },
  {
   "cell_type": "code",
   "execution_count": 3,
   "metadata": {},
   "outputs": [
    {
     "name": "stdout",
     "output_type": "stream",
     "text": [
      "Printing Schema of songs_df: \n",
      "root\n",
      " |-- key: binary (nullable = true)\n",
      " |-- value: binary (nullable = true)\n",
      " |-- topic: string (nullable = true)\n",
      " |-- partition: integer (nullable = true)\n",
      " |-- offset: long (nullable = true)\n",
      " |-- timestamp: timestamp (nullable = true)\n",
      " |-- timestampType: integer (nullable = true)\n",
      "\n"
     ]
    }
   ],
   "source": [
    "# Construct a streaming DataFrame that reads from test-topic\n",
    "songs_df = spark \\\n",
    "        .readStream \\\n",
    "        .format(\"kafka\") \\\n",
    "        .option(\"kafka.bootstrap.servers\", kafka_bootstrap_servers) \\\n",
    "        .option(\"subscribe\", kafka_topic_name) \\\n",
    "        .option(\"startingOffsets\", \"latest\") \\\n",
    "        .load()\n",
    "\n",
    "print(\"Printing Schema of songs_df: \")\n",
    "\n",
    "songs_df.printSchema()\n",
    "\n",
    "    "
   ]
  },
  {
   "cell_type": "code",
   "execution_count": 4,
   "metadata": {},
   "outputs": [
    {
     "name": "stdout",
     "output_type": "stream",
     "text": [
      "root\n",
      " |-- order_id: integer (nullable = true)\n",
      " |-- id: string (nullable = true)\n",
      " |-- name: string (nullable = true)\n",
      " |-- popularity: integer (nullable = true)\n",
      " |-- duration_ms: double (nullable = true)\n",
      " |-- explicit: integer (nullable = true)\n",
      " |-- artists: string (nullable = true)\n",
      " |-- id_artists: string (nullable = true)\n",
      " |-- release_date: string (nullable = true)\n",
      " |-- danceability: double (nullable = true)\n",
      " |-- energy: double (nullable = true)\n",
      " |-- key: integer (nullable = true)\n",
      " |-- loudness: double (nullable = true)\n",
      " |-- mode: integer (nullable = true)\n",
      " |-- speechiness: double (nullable = true)\n",
      " |-- acousticness: double (nullable = true)\n",
      " |-- instrumentalness: double (nullable = true)\n",
      " |-- liveness: double (nullable = true)\n",
      " |-- valence: double (nullable = true)\n",
      " |-- tempo: double (nullable = true)\n",
      " |-- time_signature: double (nullable = true)\n",
      " |-- timestamp: timestamp (nullable = true)\n",
      "\n"
     ]
    }
   ],
   "source": [
    "songs_df1 = songs_df.selectExpr(\"CAST(value AS STRING)\", \"timestamp\")\n",
    "\n",
    "\n",
    "songs_schema_string = \"order_id INT,id STRING, name STRING,popularity INT, duration_ms DOUBLE, explicit INT, \" \\\n",
    "                           + \"artists STRING, id_artists STRING, release_date STRING, \" \\\n",
    "                           + \"danceability DOUBLE,\" \\\n",
    "                           + \"energy DOUBLE, key INT, loudness DOUBLE, \" \\\n",
    "                           + \"mode INT,\" \\\n",
    "                           + \"speechiness DOUBLE,\" \\\n",
    "                           + \"acousticness DOUBLE, instrumentalness DOUBLE, liveness DOUBLE, \" \\\n",
    "                           + \"valence DOUBLE, tempo DOUBLE, time_signature DOUBLE\"\n",
    "\n",
    "\n",
    "\n",
    "songs_df2 = songs_df1 \\\n",
    "        .select(from_csv(col(\"value\"), songs_schema_string) \\\n",
    "                .alias(\"song\"), \"timestamp\")\n",
    "\n",
    "\n",
    "songs_df3 = songs_df2.select(\"song.*\", \"timestamp\")\n",
    "songs_df3.printSchema()\n",
    "\n"
   ]
  },
  {
   "cell_type": "code",
   "execution_count": 5,
   "metadata": {},
   "outputs": [],
   "source": [
    "def simple():    \n",
    "    songs_df3.createOrReplaceTempView(\"song_find\");\n",
    "    song_find_text = spark.sql(\"SELECT name, artists FROM song_find\")\n",
    "    songs_agg_write_stream = song_find_text \\\n",
    "            .writeStream \\\n",
    "            .trigger(processingTime='5 seconds') \\\n",
    "            .outputMode(\"update\") \\\n",
    "            .option(\"truncate\", \"false\") \\\n",
    "            .format(\"console\") \\\n",
    "            .start()\n",
    "\n",
    "    songs_agg_write_stream.awaitTermination()\n",
    "\n",
    "    print(\"Songs Streaming...\")\n",
    "    \n",
    "def csv_output():    \n",
    "    song_find_text = spark.sql(\"SELECT name, artists FROM song_find\")\n",
    "    songs_agg_write_stream = song_find_text \\\n",
    "            .writeStream \\\n",
    "            .trigger(processingTime='5 seconds') \\\n",
    "            .outputMode(\"append\") \\\n",
    "            .option(\"truncate\", \"false\") \\\n",
    "            .option(\"path\",'answ') \\\n",
    "            .option(\"checkpointLocation\", \"checkpoint_path\") \\\n",
    "            .format(\"csv\") \\\n",
    "            .start()\n",
    "\n",
    "    songs_agg_write_stream.awaitTermination()\n",
    "\n",
    "    print(\"Songs Streaming...\")"
   ]
  },
  {
   "cell_type": "code",
   "execution_count": 6,
   "metadata": {},
   "outputs": [
    {
     "name": "stdout",
     "output_type": "stream",
     "text": [
      "Songs Streaming...\n"
     ]
    }
   ],
   "source": [
    "songs_df3.createOrReplaceTempView(\"song_find\");\n",
    "song_find_text = spark.sql(\"SELECT * FROM song_find\")\n",
    "songs_agg_write_stream = song_find_text \\\n",
    "        .writeStream \\\n",
    "        .trigger(processingTime='5 seconds') \\\n",
    "        .outputMode(\"append\") \\\n",
    "        .option(\"truncate\", \"false\") \\\n",
    "        .format(\"memory\") \\\n",
    "        .queryName(\"testedTable5\") \\\n",
    "        .start()\n",
    "\n",
    "songs_agg_write_stream.awaitTermination(1)\n",
    "\n",
    "print(\"Songs Streaming...\")"
   ]
  },
  {
   "cell_type": "code",
   "execution_count": 11,
   "metadata": {},
   "outputs": [],
   "source": [
    "df = spark.sql(\"SELECT * FROM testedTable5\")"
   ]
  },
  {
   "cell_type": "code",
   "execution_count": 12,
   "metadata": {},
   "outputs": [
    {
     "name": "stdout",
     "output_type": "stream",
     "text": [
      "+--------+--------------------+--------------------+----------+-----------+--------+--------------+------------------+------------+------------+------+---+--------+----+-----------+------------+----------------+--------+-------+------+--------------+--------------------+\n",
      "|order_id|                  id|                name|popularity|duration_ms|explicit|       artists|        id_artists|release_date|danceability|energy|key|loudness|mode|speechiness|acousticness|instrumentalness|liveness|valence| tempo|time_signature|           timestamp|\n",
      "+--------+--------------------+--------------------+----------+-----------+--------+--------------+------------------+------------+------------+------+---+--------+----+-----------+------------+----------------+--------+-------+------+--------------+--------------------+\n",
      "|      70|2vOhKgXKFpej7mv3m...|Capítulo 1.21 - B...|         0|   102000.0|       0|FernandoPessoa|jtPCOoNZwqukwdDxrY|  1922-06-01|       0.625| 0.187| 10| -24.686|   1|      0.963|       0.831|             0.0|   0.424|  0.576|76.537|           3.0|2021-06-17 10:11:...|\n",
      "|      71|2vSAIArCi0f9b9Ll6...|Capítulo 2.4 - Ba...|         0|    97600.0|       0|FernandoPessoa|jtPCOoNZwqukwdDxrY|  1922-06-01|       0.732| 0.176|  0| -21.808|   1|      0.966|       0.623|             0.0|   0.442|  0.771|76.708|           1.0|2021-06-17 10:11:...|\n",
      "|      72|2wWS5DZYc50AzbiXC...|Capítulo 2.14 - B...|         0|    95200.0|       0|FernandoPessoa|jtPCOoNZwqukwdDxrY|  1922-06-01|       0.827| 0.258|  5| -21.896|   1|      0.956|       0.658|             0.0|   0.316|   0.73|41.694|           3.0|2021-06-17 10:11:...|\n",
      "+--------+--------------------+--------------------+----------+-----------+--------+--------------+------------------+------------+------------+------+---+--------+----+-----------+------------+----------------+--------+-------+------+--------------+--------------------+\n",
      "only showing top 3 rows\n",
      "\n"
     ]
    }
   ],
   "source": [
    "# getting the data from df.\n",
    "df.show(3)"
   ]
  },
  {
   "cell_type": "code",
   "execution_count": 13,
   "metadata": {},
   "outputs": [
    {
     "data": {
      "text/plain": [
       "['order_id',\n",
       " 'id',\n",
       " 'name',\n",
       " 'popularity',\n",
       " 'duration_ms',\n",
       " 'explicit',\n",
       " 'artists',\n",
       " 'id_artists',\n",
       " 'release_date',\n",
       " 'danceability',\n",
       " 'energy',\n",
       " 'key',\n",
       " 'loudness',\n",
       " 'mode',\n",
       " 'speechiness',\n",
       " 'acousticness',\n",
       " 'instrumentalness',\n",
       " 'liveness',\n",
       " 'valence',\n",
       " 'tempo',\n",
       " 'time_signature',\n",
       " 'timestamp']"
      ]
     },
     "execution_count": 13,
     "metadata": {},
     "output_type": "execute_result"
    }
   ],
   "source": [
    "df.columns"
   ]
  },
  {
   "cell_type": "code",
   "execution_count": 17,
   "metadata": {},
   "outputs": [
    {
     "data": {
      "text/plain": [
       "44"
      ]
     },
     "execution_count": 17,
     "metadata": {},
     "output_type": "execute_result"
    }
   ],
   "source": [
    "df_count = df.count()\n",
    "df_count"
   ]
  },
  {
   "cell_type": "code",
   "execution_count": 18,
   "metadata": {},
   "outputs": [
    {
     "name": "stdout",
     "output_type": "stream",
     "text": [
      "+-------+----------+\n",
      "|summary|popularity|\n",
      "+-------+----------+\n",
      "|  count|        44|\n",
      "|   mean|       0.0|\n",
      "| stddev|       0.0|\n",
      "|    min|         0|\n",
      "|    max|         0|\n",
      "+-------+----------+\n",
      "\n"
     ]
    }
   ],
   "source": [
    "df.describe('popularity').show()"
   ]
  },
  {
   "cell_type": "code",
   "execution_count": 19,
   "metadata": {},
   "outputs": [
    {
     "name": "stdout",
     "output_type": "stream",
     "text": [
      "+--------+--------------------+--------------+\n",
      "|order_id|                name|       artists|\n",
      "+--------+--------------------+--------------+\n",
      "|      70|Capítulo 1.21 - B...|FernandoPessoa|\n",
      "|      71|Capítulo 2.4 - Ba...|FernandoPessoa|\n",
      "|      72|Capítulo 2.14 - B...|FernandoPessoa|\n",
      "|      73|The Girl That I M...|    DickHaymes|\n",
      "|      74|Capítulo 1.7 - Ba...|FernandoPessoa|\n",
      "|      75|Capítulo 1.9 - Ba...|FernandoPessoa|\n",
      "|      76|Capítulo 2.9 - Ba...|FernandoPessoa|\n",
      "|      77|Entrerriana - Rem...|IgnacioCorsini|\n",
      "|      78|Pobre Cotorro - R...|IgnacioCorsini|\n",
      "|      79|              Mirage|  AdolpheBrard|\n",
      "+--------+--------------------+--------------+\n",
      "only showing top 10 rows\n",
      "\n"
     ]
    }
   ],
   "source": [
    "df.select('order_id','name','artists').show(10)"
   ]
  },
  {
   "cell_type": "code",
   "execution_count": 20,
   "metadata": {},
   "outputs": [
    {
     "data": {
      "text/plain": [
       "11"
      ]
     },
     "execution_count": 20,
     "metadata": {},
     "output_type": "execute_result"
    }
   ],
   "source": [
    "# getting the number of unique artists\n",
    "df.select('artists').distinct().count()"
   ]
  },
  {
   "cell_type": "code",
   "execution_count": 21,
   "metadata": {},
   "outputs": [],
   "source": [
    "# finding if there is any duplicate rows and deleting it.\n",
    "dup_count = df.dropDuplicates().count()\n",
    "dup_count = df_count - dup_count\n",
    "#dup_count"
   ]
  },
  {
   "cell_type": "code",
   "execution_count": 22,
   "metadata": {},
   "outputs": [
    {
     "name": "stdout",
     "output_type": "stream",
     "text": [
      "+--------------------+-----+\n",
      "|             artists|count|\n",
      "+--------------------+-----+\n",
      "|      FernandoPessoa|   18|\n",
      "|      IgnacioCorsini|   11|\n",
      "|          DickHaymes|    8|\n",
      "|     MariaKonopnicka|    2|\n",
      "|                 Uli|    2|\n",
      "|            Georgius|    2|\n",
      "|        AdolpheBrard|    1|\n",
      "|DickHaymesVictorY...|    1|\n",
      "|              Fortug|    1|\n",
      "|DickHaymesHarryJa...|    1|\n",
      "|           FlixMayol|    1|\n",
      "+--------------------+-----+\n",
      "\n"
     ]
    }
   ],
   "source": [
    "# get popular artists.\n",
    "df.groupby('artists').agg({'popularity': 'mean'})\n",
    "df.groupby('artists').count().orderBy('count', ascending=False).show()"
   ]
  },
  {
   "cell_type": "code",
   "execution_count": null,
   "metadata": {},
   "outputs": [],
   "source": []
  },
  {
   "cell_type": "code",
   "execution_count": 23,
   "metadata": {},
   "outputs": [
    {
     "data": {
      "text/plain": [
       "['order_id',\n",
       " 'id',\n",
       " 'name',\n",
       " 'popularity',\n",
       " 'duration_ms',\n",
       " 'explicit',\n",
       " 'artists',\n",
       " 'id_artists',\n",
       " 'release_date',\n",
       " 'danceability',\n",
       " 'energy',\n",
       " 'key',\n",
       " 'loudness',\n",
       " 'mode',\n",
       " 'speechiness',\n",
       " 'acousticness',\n",
       " 'instrumentalness',\n",
       " 'liveness',\n",
       " 'valence',\n",
       " 'tempo',\n",
       " 'time_signature',\n",
       " 'timestamp']"
      ]
     },
     "execution_count": 23,
     "metadata": {},
     "output_type": "execute_result"
    }
   ],
   "source": [
    "df.columns"
   ]
  },
  {
   "cell_type": "code",
   "execution_count": 24,
   "metadata": {},
   "outputs": [],
   "source": [
    "df = df.sort(df.release_date.desc())"
   ]
  },
  {
   "cell_type": "code",
   "execution_count": 25,
   "metadata": {},
   "outputs": [],
   "source": [
    "df = df.drop('order_id',\n",
    " 'id',\n",
    " 'explicit',\n",
    "  'mode',\n",
    " 'release_date',\n",
    " 'id_artists',\n",
    " 'time_signature',\n",
    " 'timestamp')"
   ]
  },
  {
   "cell_type": "code",
   "execution_count": 26,
   "metadata": {},
   "outputs": [
    {
     "data": {
      "text/plain": [
       "['name',\n",
       " 'popularity',\n",
       " 'duration_ms',\n",
       " 'artists',\n",
       " 'danceability',\n",
       " 'energy',\n",
       " 'key',\n",
       " 'loudness',\n",
       " 'speechiness',\n",
       " 'acousticness',\n",
       " 'instrumentalness',\n",
       " 'liveness',\n",
       " 'valence',\n",
       " 'tempo']"
      ]
     },
     "execution_count": 26,
     "metadata": {},
     "output_type": "execute_result"
    }
   ],
   "source": [
    "df.columns"
   ]
  },
  {
   "cell_type": "code",
   "execution_count": 27,
   "metadata": {},
   "outputs": [],
   "source": [
    "import pandas as pd"
   ]
  },
  {
   "cell_type": "code",
   "execution_count": 28,
   "metadata": {},
   "outputs": [
    {
     "name": "stdout",
     "output_type": "stream",
     "text": [
      "98 tracks\n"
     ]
    },
    {
     "data": {
      "image/png": "[encoded data removed]",
      "text/plain": [
       "<Figure size 640x480 with 1 Axes>"
      ]
     },
     "metadata": {},
     "output_type": "display_data"
    }
   ],
   "source": [
    "from spotify_api import getSong\n",
    "song_data = getSong.passs()\n",
    "add_df = song_data.head(1)\n"
   ]
  },
  {
   "cell_type": "code",
   "execution_count": 29,
   "metadata": {},
   "outputs": [
    {
     "name": "stdout",
     "output_type": "stream",
     "text": [
      "+--------------------+----------+-----------+--------------+------------+------+---+--------+-----------+------------+----------------+--------+-------+------+\n",
      "|                name|popularity|duration_ms|       artists|danceability|energy|key|loudness|speechiness|acousticness|instrumentalness|liveness|valence| tempo|\n",
      "+--------------------+----------+-----------+--------------+------------+------+---+--------+-----------+------------+----------------+--------+-------+------+\n",
      "|Capítulo 1.21 - B...|         0|   102000.0|FernandoPessoa|       0.625| 0.187| 10| -24.686|      0.963|       0.831|             0.0|   0.424|  0.576|76.537|\n",
      "+--------------------+----------+-----------+--------------+------------+------+---+--------+-----------+------------+----------------+--------+-------+------+\n",
      "only showing top 1 row\n",
      "\n"
     ]
    }
   ],
   "source": [
    "df.show(1)"
   ]
  },
  {
   "cell_type": "code",
   "execution_count": 30,
   "metadata": {},
   "outputs": [
    {
     "name": "stdout",
     "output_type": "stream",
     "text": [
      "+--------------------+---------+-----------+----------+------------+-----------+---+--------+----------------+------+-------+--------+------------+-------+\n",
      "|                name|  artists|duration_ms|popularity|acousticness|speechiness|key|liveness|instrumentalness|energy|  tempo|loudness|danceability|valence|\n",
      "+--------------------+---------+-----------+----------+------------+-----------+---+--------+----------------+------+-------+--------+------------+-------+\n",
      "|MONTERO (Call Me ...|Lil Nas X|    137.875|       100|       0.297|      0.152|  8|   0.384|             0.0| 0.508|178.818|  -6.682|        0.61|  0.758|\n",
      "+--------------------+---------+-----------+----------+------------+-----------+---+--------+----------------+------+-------+--------+------------+-------+\n",
      "\n"
     ]
    }
   ],
   "source": [
    "df_sp = spark.createDataFrame(add_df)\n",
    "df_sp.show()"
   ]
  },
  {
   "cell_type": "code",
   "execution_count": 31,
   "metadata": {},
   "outputs": [
    {
     "name": "stdout",
     "output_type": "stream",
     "text": [
      "+--------------------+----------+-----------+--------------+------------+------+---+--------+-----------+------------+----------------+--------+-------+------+\n",
      "|                name|popularity|duration_ms|       artists|danceability|energy|key|loudness|speechiness|acousticness|instrumentalness|liveness|valence| tempo|\n",
      "+--------------------+----------+-----------+--------------+------------+------+---+--------+-----------+------------+----------------+--------+-------+------+\n",
      "|Capítulo 1.21 - B...|         0|   102000.0|FernandoPessoa|       0.625| 0.187| 10| -24.686|      0.963|       0.831|             0.0|   0.424|  0.576|76.537|\n",
      "|Capítulo 2.4 - Ba...|         0|    97600.0|FernandoPessoa|       0.732| 0.176|  0| -21.808|      0.966|       0.623|             0.0|   0.442|  0.771|76.708|\n",
      "+--------------------+----------+-----------+--------------+------------+------+---+--------+-----------+------------+----------------+--------+-------+------+\n",
      "only showing top 2 rows\n",
      "\n"
     ]
    }
   ],
   "source": [
    "df = df.union(df_sp)\n",
    "df.show(2)"
   ]
  },
  {
   "cell_type": "code",
   "execution_count": null,
   "metadata": {},
   "outputs": [],
   "source": []
  },
  {
   "cell_type": "code",
   "execution_count": 32,
   "metadata": {},
   "outputs": [
    {
     "name": "stdout",
     "output_type": "stream",
     "text": [
      "+--------------------+----------+-----------+--------------+------------+------+---+--------+-----------+------------+----------------+--------+-------+------+--------------------+\n",
      "|                name|popularity|duration_ms|       artists|danceability|energy|key|loudness|speechiness|acousticness|instrumentalness|liveness|valence| tempo|            features|\n",
      "+--------------------+----------+-----------+--------------+------------+------+---+--------+-----------+------------+----------------+--------+-------+------+--------------------+\n",
      "|Capítulo 1.21 - B...|         0|   102000.0|FernandoPessoa|       0.625| 0.187| 10| -24.686|      0.963|       0.831|             0.0|   0.424|  0.576|76.537|[102000.0,0.625,0...|\n",
      "|Capítulo 2.4 - Ba...|         0|    97600.0|FernandoPessoa|       0.732| 0.176|  0| -21.808|      0.966|       0.623|             0.0|   0.442|  0.771|76.708|[97600.0,0.732,0....|\n",
      "+--------------------+----------+-----------+--------------+------------+------+---+--------+-----------+------------+----------------+--------+-------+------+--------------------+\n",
      "only showing top 2 rows\n",
      "\n"
     ]
    }
   ],
   "source": [
    "from pyspark.ml.feature import VectorAssembler\n",
    "assembler=VectorAssembler(inputCols=[\n",
    " 'duration_ms',\n",
    " 'danceability',\n",
    " 'energy',\n",
    " 'loudness',\n",
    " 'speechiness',\n",
    " 'acousticness',\n",
    " 'instrumentalness',\n",
    " 'liveness',\n",
    " 'valence',\n",
    " 'tempo'], outputCol='features')\n",
    "assembled_data=assembler.setHandleInvalid(\"skip\").transform(df)\n",
    "assembled_data.show(2)"
   ]
  },
  {
   "cell_type": "code",
   "execution_count": 33,
   "metadata": {},
   "outputs": [
    {
     "name": "stdout",
     "output_type": "stream",
     "text": [
      "+--------------------+----------+-----------+--------------------+------------+------+---+--------+-----------+------------+----------------+--------+-------+-------+--------------------+--------------------+\n",
      "|                name|popularity|duration_ms|             artists|danceability|energy|key|loudness|speechiness|acousticness|instrumentalness|liveness|valence|  tempo|            features|        standardized|\n",
      "+--------------------+----------+-----------+--------------------+------------+------+---+--------+-----------+------------+----------------+--------+-------+-------+--------------------+--------------------+\n",
      "|Nobody Knows You ...|        41|   177133.0|         BessieSmith|       0.614|0.0423|  4| -12.033|     0.0535|       0.996|         0.00293|   0.183|  0.211| 89.822|[177133.0,0.614,0...|[3.85152289574137...|\n",
      "|        Weather Bird|        38|   161933.0|LouisArmstrongEar...|       0.831| 0.262|  8| -12.386|     0.0942|       0.984|           0.912|   0.204|  0.901|104.606|[161933.0,0.831,0...|[3.52101899180891...|\n",
      "+--------------------+----------+-----------+--------------------+------------+------+---+--------+-----------+------------+----------------+--------+-------+-------+--------------------+--------------------+\n",
      "only showing top 2 rows\n",
      "\n"
     ]
    }
   ],
   "source": [
    "from pyspark.ml.feature import StandardScaler\n",
    "scale=StandardScaler(inputCol='features',outputCol='standardized')\n",
    "data_scale=scale.fit(assembled_data)\n",
    "df=data_scale.transform(assembled_data)\n",
    "df.show(2)"
   ]
  },
  {
   "cell_type": "code",
   "execution_count": 34,
   "metadata": {},
   "outputs": [
    {
     "data": {
      "text/plain": [
       "DataFrame[name: string, popularity: string, duration_ms: double, artists: string, danceability: double, energy: double, key: string, loudness: double, speechiness: double, acousticness: double, instrumentalness: double, liveness: double, valence: double, tempo: double, features: vector]"
      ]
     },
     "execution_count": 34,
     "metadata": {},
     "output_type": "execute_result"
    }
   ],
   "source": [
    "assembled_data"
   ]
  },
  {
   "cell_type": "code",
   "execution_count": 35,
   "metadata": {},
   "outputs": [],
   "source": [
    "def getShiloutte():\n",
    "    from pyspark.ml.clustering import KMeans\n",
    "    from pyspark.ml.evaluation import ClusteringEvaluator\n",
    "    silhouette_score=[]\n",
    "    evaluator = ClusteringEvaluator(predictionCol='prediction', featuresCol='standardized', \\\n",
    "                                    metricName='silhouette', distanceMeasure='squaredEuclidean')\n",
    "    for i in range(2,10):\n",
    "\n",
    "        KMeans_algo=KMeans(featuresCol='standardized', k=i)\n",
    "\n",
    "        KMeans_fit=KMeans_algo.fit(df)\n",
    "\n",
    "        output=KMeans_fit.transform(df)\n",
    "\n",
    "        score=evaluator.evaluate(output)\n",
    "\n",
    "        silhouette_score.append(score)\n",
    "\n",
    "        return silhouette_score"
   ]
  },
  {
   "cell_type": "code",
   "execution_count": 36,
   "metadata": {},
   "outputs": [],
   "source": [
    "from pyspark.ml.clustering import KMeans\n",
    "from pyspark.ml.evaluation import ClusteringEvaluator\n",
    "silhouette_score=[]\n",
    "evaluator = ClusteringEvaluator(predictionCol='prediction', featuresCol='standardized', \\\n",
    "                                metricName='silhouette', distanceMeasure='squaredEuclidean')\n",
    "\n",
    "\n",
    "KMeans_algo=KMeans(featuresCol='standardized', k=4)\n",
    "    \n",
    "KMeans_fit=KMeans_algo.fit(df)\n",
    "    \n",
    "output_df =KMeans_fit.transform(df)\n",
    "    "
   ]
  },
  {
   "cell_type": "code",
   "execution_count": 37,
   "metadata": {},
   "outputs": [
    {
     "name": "stdout",
     "output_type": "stream",
     "text": [
      "+--------------------+----------+-----------+-----------+------------+------+----+--------+-----------+------------+----------------+--------+-------+------+--------------------+--------------------+----------+\n",
      "|                name|popularity|duration_ms|    artists|danceability|energy| key|loudness|speechiness|acousticness|instrumentalness|liveness|valence| tempo|            features|        standardized|prediction|\n",
      "+--------------------+----------+-----------+-----------+------------+------+----+--------+-----------+------------+----------------+--------+-------+------+--------------------+--------------------+----------+\n",
      "|     Empty Bed Blues|      null|       27.0|          0|      1923.0| 0.709|null|     5.0|        1.0|       0.048|           0.995| 0.00341|   0.12| 0.553|[27.0,1923.0,0.70...|[5.87079303037926...|         0|\n",
      "|Nobody Knows You ...|        41|   177133.0|BessieSmith|       0.614|0.0423|   4| -12.033|     0.0535|       0.996|         0.00293|   0.183|  0.211|89.822|[177133.0,0.614,0...|[3.85152289574137...|         1|\n",
      "+--------------------+----------+-----------+-----------+------------+------+----+--------+-----------+------------+----------------+--------+-------+------+--------------------+--------------------+----------+\n",
      "only showing top 2 rows\n",
      "\n"
     ]
    }
   ],
   "source": [
    "output_df.show(2)"
   ]
  },
  {
   "cell_type": "code",
   "execution_count": 38,
   "metadata": {},
   "outputs": [
    {
     "data": {
      "text/plain": [
       "4"
      ]
     },
     "execution_count": 38,
     "metadata": {},
     "output_type": "execute_result"
    }
   ],
   "source": [
    "output_df.select('prediction').distinct().count()"
   ]
  },
  {
   "cell_type": "code",
   "execution_count": 39,
   "metadata": {},
   "outputs": [
    {
     "name": "stdout",
     "output_type": "stream",
     "text": [
      "+----------+\n",
      "|prediction|\n",
      "+----------+\n",
      "|         0|\n",
      "|         1|\n",
      "|         3|\n",
      "|         1|\n",
      "|         3|\n",
      "|         1|\n",
      "|         3|\n",
      "|         3|\n",
      "|         3|\n",
      "|         1|\n",
      "|         3|\n",
      "|         1|\n",
      "|         3|\n",
      "|         3|\n",
      "|         1|\n",
      "|         3|\n",
      "|         3|\n",
      "|         1|\n",
      "|         3|\n",
      "|         1|\n",
      "+----------+\n",
      "only showing top 20 rows\n",
      "\n"
     ]
    }
   ],
   "source": [
    "output_df.select('prediction').show(20)"
   ]
  },
  {
   "cell_type": "code",
   "execution_count": 40,
   "metadata": {},
   "outputs": [],
   "source": [
    "import numpy as np, pandas as pd\n",
    "import matplotlib.pyplot as plt, seaborn as sns\n",
    "from tqdm import tqdm\n",
    "import warnings\n",
    "warnings.filterwarnings(\"ignore\")"
   ]
  },
  {
   "cell_type": "code",
   "execution_count": 41,
   "metadata": {},
   "outputs": [],
   "source": [
    "class SpotifyRecommender():\n",
    "    def __init__(self, rec_data):\n",
    "        #our class should understand which data to work with\n",
    "        self.rec_data_ = rec_data\n",
    "    \n",
    "    #if we need to change data\n",
    "    def change_data(self, rec_data):\n",
    "        self.rec_data_ = rec_data\n",
    "    \n",
    "    #function which returns recommendations, we can also choose the amount of songs to be recommended\n",
    "    def get_recommendations(self, song_name, amount=1):\n",
    "        distances = []\n",
    "        #choosing the data for our song\n",
    "        song = self.rec_data_[(self.rec_data_.name.str.lower() == song_name.lower())].head(1).values[0]\n",
    "        #dropping the data with our song\n",
    "        res_data = self.rec_data_[self.rec_data_.name.str.lower() != song_name.lower()]\n",
    "        for r_song in tqdm(res_data.values):\n",
    "            dist = 0\n",
    "            for col in np.arange(len(res_data.columns)):\n",
    "                #indeces of non-numerical columns\n",
    "                if not col in [0,1,5]:\n",
    "                    #calculating the manhettan distances for each numerical feature\n",
    "                    dist = dist + np.absolute(float(song[col]) - float(r_song[col]))\n",
    "            distances.append(dist)\n",
    "        res_data['distance'] = distances\n",
    "        #sorting our data to be ascending by 'distance' feature\n",
    "        res_data = res_data.sort_values('distance')\n",
    "        columns = ['name', 'artists', 'acousticness', 'liveness', 'instrumentalness', 'energy', 'danceability', 'valence','duration_ms']\n",
    "        return res_data[columns][:amount]"
   ]
  },
  {
   "cell_type": "code",
   "execution_count": 42,
   "metadata": {},
   "outputs": [],
   "source": [
    "datad = output_df.select('name',\n",
    " 'artists',\n",
    " 'duration_ms',\n",
    " 'danceability',\n",
    " 'energy',\n",
    " 'key',\n",
    " 'loudness',\n",
    " 'speechiness',\n",
    " 'acousticness',\n",
    " 'instrumentalness',\n",
    " 'liveness',\n",
    " 'valence',\n",
    " 'tempo',\n",
    " 'prediction')\n",
    "\n",
    "\n",
    "\n",
    "\n",
    "datf = datad.toPandas()\n",
    "datf.drop(datf[datf['artists'] == '0'].index, inplace = True)\n",
    "datf.drop_duplicates(inplace=True)\n",
    "datf.drop(datf[datf['danceability'] == 0.0000].index, inplace = True)\n",
    "datf.drop(datf[datf['liveness'] == 0.000].index, inplace = True)\n",
    "datf.drop(datf[datf['instrumentalness'] == 0.000000].index, inplace = True)\n",
    "datf.drop(datf[datf['energy'] == 0.0000].index, inplace = True)\n",
    "datf.drop(datf[datf['danceability'] == 0.000].index, inplace = True)\n",
    "datf.drop(datf[datf['valence'] == 0.000].index, inplace = True)\n",
    "\n"
   ]
  },
  {
   "cell_type": "code",
   "execution_count": 46,
   "metadata": {},
   "outputs": [
    {
     "name": "stderr",
     "output_type": "stream",
     "text": [
      "100%|███████████████████████████████████████████████████████████████████████████████| 72/72 [00:00<00:00, 14402.42it/s]\n"
     ]
    }
   ],
   "source": [
    "recommender = SpotifyRecommender(datf)\n",
    "x = add_df['name'].tolist()[0]\n",
    "\n",
    "rec_song = recommender.get_recommendations(x, 8)\n"
   ]
  },
  {
   "cell_type": "code",
   "execution_count": 47,
   "metadata": {},
   "outputs": [
    {
     "data": {
      "text/html": [
       "<div>\n",
       "<style scoped>\n",
       "    .dataframe tbody tr th:only-of-type {\n",
       "        vertical-align: middle;\n",
       "    }\n",
       "\n",
       "    .dataframe tbody tr th {\n",
       "        vertical-align: top;\n",
       "    }\n",
       "\n",
       "    .dataframe thead th {\n",
       "        text-align: right;\n",
       "    }\n",
       "</style>\n",
       "<table border=\"1\" class=\"dataframe\">\n",
       "  <thead>\n",
       "    <tr style=\"text-align: right;\">\n",
       "      <th></th>\n",
       "      <th>name</th>\n",
       "      <th>artists</th>\n",
       "      <th>acousticness</th>\n",
       "      <th>liveness</th>\n",
       "      <th>instrumentalness</th>\n",
       "      <th>energy</th>\n",
       "      <th>danceability</th>\n",
       "      <th>valence</th>\n",
       "      <th>duration_ms</th>\n",
       "    </tr>\n",
       "  </thead>\n",
       "  <tbody>\n",
       "    <tr>\n",
       "      <th>89</th>\n",
       "      <td>L'enfer</td>\n",
       "      <td>Uli</td>\n",
       "      <td>0.199</td>\n",
       "      <td>0.0931</td>\n",
       "      <td>0.85600</td>\n",
       "      <td>0.325</td>\n",
       "      <td>0.657</td>\n",
       "      <td>0.105</td>\n",
       "      <td>40000.0</td>\n",
       "    </tr>\n",
       "    <tr>\n",
       "      <th>90</th>\n",
       "      <td>Graphite</td>\n",
       "      <td>Uli</td>\n",
       "      <td>0.144</td>\n",
       "      <td>0.0847</td>\n",
       "      <td>0.80200</td>\n",
       "      <td>0.684</td>\n",
       "      <td>0.644</td>\n",
       "      <td>0.138</td>\n",
       "      <td>104400.0</td>\n",
       "    </tr>\n",
       "    <tr>\n",
       "      <th>111</th>\n",
       "      <td>Le Petit Amant</td>\n",
       "      <td>JeanneSaintBonnet</td>\n",
       "      <td>0.996</td>\n",
       "      <td>0.1550</td>\n",
       "      <td>0.00597</td>\n",
       "      <td>0.283</td>\n",
       "      <td>0.656</td>\n",
       "      <td>0.670</td>\n",
       "      <td>120760.0</td>\n",
       "    </tr>\n",
       "    <tr>\n",
       "      <th>74</th>\n",
       "      <td>Nostalgia - Remasterizado</td>\n",
       "      <td>IgnacioCorsini</td>\n",
       "      <td>0.995</td>\n",
       "      <td>0.2060</td>\n",
       "      <td>0.63800</td>\n",
       "      <td>0.158</td>\n",
       "      <td>0.496</td>\n",
       "      <td>0.347</td>\n",
       "      <td>139760.0</td>\n",
       "    </tr>\n",
       "    <tr>\n",
       "      <th>106</th>\n",
       "      <td>As If I Didn't Have Enough On My Mind</td>\n",
       "      <td>DickHaymes</td>\n",
       "      <td>0.991</td>\n",
       "      <td>0.4190</td>\n",
       "      <td>0.85000</td>\n",
       "      <td>0.246</td>\n",
       "      <td>0.320</td>\n",
       "      <td>0.312</td>\n",
       "      <td>148440.0</td>\n",
       "    </tr>\n",
       "    <tr>\n",
       "      <th>72</th>\n",
       "      <td>Ensueño de Oro - Remasterizado</td>\n",
       "      <td>IgnacioCorsini</td>\n",
       "      <td>0.995</td>\n",
       "      <td>0.2020</td>\n",
       "      <td>0.95200</td>\n",
       "      <td>0.155</td>\n",
       "      <td>0.430</td>\n",
       "      <td>0.564</td>\n",
       "      <td>151027.0</td>\n",
       "    </tr>\n",
       "    <tr>\n",
       "      <th>26</th>\n",
       "      <td>Everybody Loves My Baby</td>\n",
       "      <td>ClarenceWilliamsBlueFive</td>\n",
       "      <td>0.996</td>\n",
       "      <td>0.2480</td>\n",
       "      <td>0.19900</td>\n",
       "      <td>0.193</td>\n",
       "      <td>0.514</td>\n",
       "      <td>0.665</td>\n",
       "      <td>152507.0</td>\n",
       "    </tr>\n",
       "    <tr>\n",
       "      <th>78</th>\n",
       "      <td>Pobre Gaucho - Remasterizado</td>\n",
       "      <td>IgnacioCorsini</td>\n",
       "      <td>0.995</td>\n",
       "      <td>0.1020</td>\n",
       "      <td>0.92900</td>\n",
       "      <td>0.131</td>\n",
       "      <td>0.476</td>\n",
       "      <td>0.635</td>\n",
       "      <td>155253.0</td>\n",
       "    </tr>\n",
       "  </tbody>\n",
       "</table>\n",
       "</div>"
      ],
      "text/plain": [
       "                                      name                   artists  \\\n",
       "89                                 L'enfer                       Uli   \n",
       "90                                Graphite                       Uli   \n",
       "111                         Le Petit Amant         JeanneSaintBonnet   \n",
       "74               Nostalgia - Remasterizado            IgnacioCorsini   \n",
       "106  As If I Didn't Have Enough On My Mind                DickHaymes   \n",
       "72          Ensueño de Oro - Remasterizado            IgnacioCorsini   \n",
       "26                 Everybody Loves My Baby  ClarenceWilliamsBlueFive   \n",
       "78            Pobre Gaucho - Remasterizado            IgnacioCorsini   \n",
       "\n",
       "     acousticness  liveness  instrumentalness  energy  danceability  valence  \\\n",
       "89          0.199    0.0931           0.85600   0.325         0.657    0.105   \n",
       "90          0.144    0.0847           0.80200   0.684         0.644    0.138   \n",
       "111         0.996    0.1550           0.00597   0.283         0.656    0.670   \n",
       "74          0.995    0.2060           0.63800   0.158         0.496    0.347   \n",
       "106         0.991    0.4190           0.85000   0.246         0.320    0.312   \n",
       "72          0.995    0.2020           0.95200   0.155         0.430    0.564   \n",
       "26          0.996    0.2480           0.19900   0.193         0.514    0.665   \n",
       "78          0.995    0.1020           0.92900   0.131         0.476    0.635   \n",
       "\n",
       "     duration_ms  \n",
       "89       40000.0  \n",
       "90      104400.0  \n",
       "111     120760.0  \n",
       "74      139760.0  \n",
       "106     148440.0  \n",
       "72      151027.0  \n",
       "26      152507.0  \n",
       "78      155253.0  "
      ]
     },
     "execution_count": 47,
     "metadata": {},
     "output_type": "execute_result"
    }
   ],
   "source": [
    "rec_song"
   ]
  },
  {
   "cell_type": "markdown",
   "metadata": {},
   "source": [
    "'name', 'artists', 'acousticness', 'liveness', 'instrumentalness', 'energy', 'danceability', 'valence'"
   ]
  },
  {
   "cell_type": "code",
   "execution_count": 48,
   "metadata": {},
   "outputs": [],
   "source": [
    "rec_song.to_csv('rec_song.csv')"
   ]
  }
 ],
 "metadata": {
  "kernelspec": {
   "display_name": "Python 3",
   "language": "python",
   "name": "python3"
  },
  "language_info": {
   "codemirror_mode": {
    "name": "ipython",
    "version": 3
   },
   "file_extension": ".py",
   "mimetype": "text/x-python",
   "name": "python",
   "nbconvert_exporter": "python",
   "pygments_lexer": "ipython3",
   "version": "3.7.6"
  }
 },
 "nbformat": 4,
 "nbformat_minor": 4
}
