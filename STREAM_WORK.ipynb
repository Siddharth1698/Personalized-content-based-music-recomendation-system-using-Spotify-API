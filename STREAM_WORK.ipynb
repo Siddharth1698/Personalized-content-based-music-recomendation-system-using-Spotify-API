{
 "cells": [
  {
   "cell_type": "code",
   "execution_count": 1,
   "metadata": {},
   "outputs": [],
   "source": [
    "from pyspark.sql import SparkSession\n",
    "from pyspark.sql.functions import *\n",
    "from pyspark.ml.feature import Normalizer, StandardScaler\n",
    "\n",
    "import time\n",
    "\n",
    "kafka_topic_name = \"songTopic\"\n",
    "kafka_bootstrap_servers = 'localhost:9092'\n",
    "\n"
   ]
  },
  {
   "cell_type": "code",
   "execution_count": 2,
   "metadata": {},
   "outputs": [],
   "source": [
    "spark = SparkSession \\\n",
    "        .builder \\\n",
    "        .appName(\"Spotify Streaming Reccomendation System\") \\\n",
    "        .master(\"local[*]\") \\\n",
    "        .getOrCreate()\n",
    "\n",
    "spark.sparkContext.setLogLevel(\"ERROR\")\n",
    "\n",
    "    "
   ]
  },
  {
   "cell_type": "code",
   "execution_count": 3,
   "metadata": {},
   "outputs": [
    {
     "name": "stdout",
     "output_type": "stream",
     "text": [
      "Printing Schema of songs_df: \n",
      "root\n",
      " |-- key: binary (nullable = true)\n",
      " |-- value: binary (nullable = true)\n",
      " |-- topic: string (nullable = true)\n",
      " |-- partition: integer (nullable = true)\n",
      " |-- offset: long (nullable = true)\n",
      " |-- timestamp: timestamp (nullable = true)\n",
      " |-- timestampType: integer (nullable = true)\n",
      "\n"
     ]
    }
   ],
   "source": [
    "# Construct a streaming DataFrame that reads from test-topic\n",
    "songs_df = spark \\\n",
    "        .readStream \\\n",
    "        .format(\"kafka\") \\\n",
    "        .option(\"kafka.bootstrap.servers\", kafka_bootstrap_servers) \\\n",
    "        .option(\"subscribe\", kafka_topic_name) \\\n",
    "        .option(\"startingOffsets\", \"latest\") \\\n",
    "        .load()\n",
    "\n",
    "print(\"Printing Schema of songs_df: \")\n",
    "\n",
    "songs_df.printSchema()\n",
    "\n",
    "    "
   ]
  },
  {
   "cell_type": "code",
   "execution_count": 4,
   "metadata": {},
   "outputs": [
    {
     "name": "stdout",
     "output_type": "stream",
     "text": [
      "root\n",
      " |-- order_id: integer (nullable = true)\n",
      " |-- id: string (nullable = true)\n",
      " |-- name: string (nullable = true)\n",
      " |-- popularity: integer (nullable = true)\n",
      " |-- duration_ms: double (nullable = true)\n",
      " |-- explicit: integer (nullable = true)\n",
      " |-- artists: string (nullable = true)\n",
      " |-- id_artists: string (nullable = true)\n",
      " |-- release_date: string (nullable = true)\n",
      " |-- danceability: double (nullable = true)\n",
      " |-- energy: double (nullable = true)\n",
      " |-- key: integer (nullable = true)\n",
      " |-- loudness: double (nullable = true)\n",
      " |-- mode: integer (nullable = true)\n",
      " |-- speechiness: double (nullable = true)\n",
      " |-- acousticness: double (nullable = true)\n",
      " |-- instrumentalness: double (nullable = true)\n",
      " |-- liveness: double (nullable = true)\n",
      " |-- valence: double (nullable = true)\n",
      " |-- tempo: double (nullable = true)\n",
      " |-- time_signature: double (nullable = true)\n",
      " |-- timestamp: timestamp (nullable = true)\n",
      "\n"
     ]
    }
   ],
   "source": [
    "songs_df1 = songs_df.selectExpr(\"CAST(value AS STRING)\", \"timestamp\")\n",
    "\n",
    "\n",
    "songs_schema_string = \"order_id INT,id STRING, name STRING,popularity INT, duration_ms DOUBLE, explicit INT, \" \\\n",
    "                           + \"artists STRING, id_artists STRING, release_date STRING, \" \\\n",
    "                           + \"danceability DOUBLE,\" \\\n",
    "                           + \"energy DOUBLE, key INT, loudness DOUBLE, \" \\\n",
    "                           + \"mode INT,\" \\\n",
    "                           + \"speechiness DOUBLE,\" \\\n",
    "                           + \"acousticness DOUBLE, instrumentalness DOUBLE, liveness DOUBLE, \" \\\n",
    "                           + \"valence DOUBLE, tempo DOUBLE, time_signature DOUBLE\"\n",
    "\n",
    "\n",
    "\n",
    "songs_df2 = songs_df1 \\\n",
    "        .select(from_csv(col(\"value\"), songs_schema_string) \\\n",
    "                .alias(\"song\"), \"timestamp\")\n",
    "\n",
    "\n",
    "songs_df3 = songs_df2.select(\"song.*\", \"timestamp\")\n",
    "songs_df3.printSchema()\n",
    "\n"
   ]
  },
  {
   "cell_type": "code",
   "execution_count": 5,
   "metadata": {},
   "outputs": [],
   "source": [
    "def simple():    \n",
    "    songs_df3.createOrReplaceTempView(\"song_find\");\n",
    "    song_find_text = spark.sql(\"SELECT name, artists FROM song_find\")\n",
    "    songs_agg_write_stream = song_find_text \\\n",
    "            .writeStream \\\n",
    "            .trigger(processingTime='5 seconds') \\\n",
    "            .outputMode(\"update\") \\\n",
    "            .option(\"truncate\", \"false\") \\\n",
    "            .format(\"console\") \\\n",
    "            .start()\n",
    "\n",
    "    songs_agg_write_stream.awaitTermination()\n",
    "\n",
    "    print(\"Songs Streaming...\")\n",
    "    \n",
    "def csv_output():    \n",
    "    song_find_text = spark.sql(\"SELECT name, artists FROM song_find\")\n",
    "    songs_agg_write_stream = song_find_text \\\n",
    "            .writeStream \\\n",
    "            .trigger(processingTime='5 seconds') \\\n",
    "            .outputMode(\"append\") \\\n",
    "            .option(\"truncate\", \"false\") \\\n",
    "            .option(\"path\",'answ') \\\n",
    "            .option(\"checkpointLocation\", \"checkpoint_path\") \\\n",
    "            .format(\"csv\") \\\n",
    "            .start()\n",
    "\n",
    "    songs_agg_write_stream.awaitTermination()\n",
    "\n",
    "    print(\"Songs Streaming...\")"
   ]
  },
  {
   "cell_type": "code",
   "execution_count": 6,
   "metadata": {},
   "outputs": [
    {
     "name": "stdout",
     "output_type": "stream",
     "text": [
      "Songs Streaming...\n"
     ]
    }
   ],
   "source": [
    "songs_df3.createOrReplaceTempView(\"song_find\");\n",
    "song_find_text = spark.sql(\"SELECT * FROM song_find\")\n",
    "songs_agg_write_stream = song_find_text \\\n",
    "        .writeStream \\\n",
    "        .trigger(processingTime='5 seconds') \\\n",
    "        .outputMode(\"append\") \\\n",
    "        .option(\"truncate\", \"false\") \\\n",
    "        .format(\"memory\") \\\n",
    "        .queryName(\"testedTable3\") \\\n",
    "        .start()\n",
    "\n",
    "songs_agg_write_stream.awaitTermination(1)\n",
    "\n",
    "print(\"Songs Streaming...\")"
   ]
  },
  {
   "cell_type": "code",
   "execution_count": 71,
   "metadata": {},
   "outputs": [],
   "source": [
    "df = spark.sql(\"SELECT * FROM testedTable3\")"
   ]
  },
  {
   "cell_type": "code",
   "execution_count": 72,
   "metadata": {},
   "outputs": [],
   "source": [
    "dfRDD = df.rdd"
   ]
  },
  {
   "cell_type": "code",
   "execution_count": 73,
   "metadata": {},
   "outputs": [
    {
     "name": "stdout",
     "output_type": "stream",
     "text": [
      "+--------+--------------------+--------------------+----------+-----------+--------+--------------+-------------------+------------+------------+------+---+--------+----+-----------+------------+----------------+--------+-------+-------+--------------+--------------------+\n",
      "|order_id|                  id|                name|popularity|duration_ms|explicit|       artists|         id_artists|release_date|danceability|energy|key|loudness|mode|speechiness|acousticness|instrumentalness|liveness|valence|  tempo|time_signature|           timestamp|\n",
      "+--------+--------------------+--------------------+----------+-----------+--------+--------------+-------------------+------------+------------+------+---+--------+----+-----------+------------+----------------+--------+-------+-------+--------------+--------------------+\n",
      "|      24|10XXG7gG75jIREUaM...|Capítulo 1.2 - Ba...|         0|   109500.0|       0|FernandoPessoa| jtPCOoNZwqukwdDxrY|  1922-06-01|       0.673| 0.239|  5| -22.552|   1|       0.96|       0.539|             0.0|   0.633|  0.644| 83.532|           4.0|2021-06-05 22:25:...|\n",
      "|      25|10u9ZWsOnhEyqFJCC...|  J'ai Vendu Mon Âme|         0|   168000.0|       0|  AdolpheBrard| avVNAdyMOjyqqYfKNR|        1922|       0.582| 0.152| 10| -13.742|   1|     0.0914|       0.972|             0.0|    0.31|  0.546| 95.779|           3.0|2021-06-05 22:25:...|\n",
      "|      26|112adU33vo4C1eRZc...|      Nuits De Chine|         4|   180800.0|       0|    LouisLynel|pbIiOohRRZjqpAMiqYM|        1922|        0.42| 0.288|  7| -14.005|   1|     0.0701|       0.994|         2.16E-4|   0.196|    0.4|139.575|           3.0|2021-06-05 22:26:...|\n",
      "+--------+--------------------+--------------------+----------+-----------+--------+--------------+-------------------+------------+------------+------+---+--------+----+-----------+------------+----------------+--------+-------+-------+--------------+--------------------+\n",
      "only showing top 3 rows\n",
      "\n"
     ]
    }
   ],
   "source": [
    "# getting the data from df.\n",
    "df.show(3)"
   ]
  },
  {
   "cell_type": "code",
   "execution_count": 74,
   "metadata": {},
   "outputs": [
    {
     "data": {
      "text/plain": [
       "['order_id',\n",
       " 'id',\n",
       " 'name',\n",
       " 'popularity',\n",
       " 'duration_ms',\n",
       " 'explicit',\n",
       " 'artists',\n",
       " 'id_artists',\n",
       " 'release_date',\n",
       " 'danceability',\n",
       " 'energy',\n",
       " 'key',\n",
       " 'loudness',\n",
       " 'mode',\n",
       " 'speechiness',\n",
       " 'acousticness',\n",
       " 'instrumentalness',\n",
       " 'liveness',\n",
       " 'valence',\n",
       " 'tempo',\n",
       " 'time_signature',\n",
       " 'timestamp']"
      ]
     },
     "execution_count": 74,
     "metadata": {},
     "output_type": "execute_result"
    }
   ],
   "source": [
    "df.columns"
   ]
  },
  {
   "cell_type": "code",
   "execution_count": 75,
   "metadata": {},
   "outputs": [
    {
     "data": {
      "text/plain": [
       "153"
      ]
     },
     "execution_count": 75,
     "metadata": {},
     "output_type": "execute_result"
    }
   ],
   "source": [
    "df_count = df.count()\n",
    "df_count"
   ]
  },
  {
   "cell_type": "code",
   "execution_count": 76,
   "metadata": {},
   "outputs": [
    {
     "name": "stdout",
     "output_type": "stream",
     "text": [
      "+-------+------------------+\n",
      "|summary|        popularity|\n",
      "+-------+------------------+\n",
      "|  count|               152|\n",
      "|   mean|3.6907894736842106|\n",
      "| stddev| 8.588636842730766|\n",
      "|    min|                 0|\n",
      "|    max|                41|\n",
      "+-------+------------------+\n",
      "\n"
     ]
    }
   ],
   "source": [
    "df.describe('popularity').show()"
   ]
  },
  {
   "cell_type": "code",
   "execution_count": 77,
   "metadata": {},
   "outputs": [
    {
     "name": "stdout",
     "output_type": "stream",
     "text": [
      "+--------+--------------------+---------------+\n",
      "|order_id|                name|        artists|\n",
      "+--------+--------------------+---------------+\n",
      "|      24|Capítulo 1.2 - Ba...| FernandoPessoa|\n",
      "|      25|  J'ai Vendu Mon Âme|   AdolpheBrard|\n",
      "|      26|      Nuits De Chine|     LouisLynel|\n",
      "|      27|En la Huella del ...| IgnacioCorsini|\n",
      "|      28|C'est La Mode Et ...|      Perchicot|\n",
      "|      29|Chapter 1.6 - Szk...|MariaKonopnicka|\n",
      "|      30|    La Ronde De Nuit|      Perchicot|\n",
      "|      31|El Patotero Senti...| IgnacioCorsini|\n",
      "|      32|The Dear Little S...|     DickHaymes|\n",
      "|      33|Tus Suspiros - Re...| IgnacioCorsini|\n",
      "+--------+--------------------+---------------+\n",
      "only showing top 10 rows\n",
      "\n"
     ]
    }
   ],
   "source": [
    "df.select('order_id','name','artists').show(10)"
   ]
  },
  {
   "cell_type": "code",
   "execution_count": 78,
   "metadata": {},
   "outputs": [
    {
     "data": {
      "text/plain": [
       "31"
      ]
     },
     "execution_count": 78,
     "metadata": {},
     "output_type": "execute_result"
    }
   ],
   "source": [
    "# getting the number of unique artists\n",
    "df.select('artists').distinct().count()"
   ]
  },
  {
   "cell_type": "code",
   "execution_count": 79,
   "metadata": {},
   "outputs": [
    {
     "data": {
      "text/plain": [
       "0"
      ]
     },
     "execution_count": 79,
     "metadata": {},
     "output_type": "execute_result"
    }
   ],
   "source": [
    "# finding if there is any duplicate rows and deleting it.\n",
    "dup_count = df.dropDuplicates().count()\n",
    "dup_count = df_count - dup_count\n",
    "dup_count"
   ]
  },
  {
   "cell_type": "code",
   "execution_count": 80,
   "metadata": {},
   "outputs": [
    {
     "name": "stdout",
     "output_type": "stream",
     "text": [
      "+--------------------+-----+\n",
      "|             artists|count|\n",
      "+--------------------+-----+\n",
      "|      FernandoPessoa|   42|\n",
      "|      IgnacioCorsini|   34|\n",
      "|         BessieSmith|   14|\n",
      "|          DickHaymes|   12|\n",
      "|     MariaKonopnicka|    7|\n",
      "|                 Uli|    4|\n",
      "|        AdolpheBrard|    3|\n",
      "|BessieSmithLouisA...|    3|\n",
      "|            Georgius|    3|\n",
      "|           Perchicot|    2|\n",
      "|KingOliversCreole...|    2|\n",
      "|         Mistinguett|    2|\n",
      "|      LouisArmstrong|    2|\n",
      "|              Fortug|    2|\n",
      "|DickHaymesHarryJa...|    2|\n",
      "|LouisArmstrongHis...|    2|\n",
      "|ClarenceWilliamsB...|    2|\n",
      "|DickHaymesGordonJ...|    2|\n",
      "|       VictorBoucher|    1|\n",
      "|          LouisLynel|    1|\n",
      "+--------------------+-----+\n",
      "only showing top 20 rows\n",
      "\n"
     ]
    }
   ],
   "source": [
    "# get popular artists.\n",
    "df.groupby('artists').agg({'popularity': 'mean'})\n",
    "df.groupby('artists').count().orderBy('count', ascending=False).show()"
   ]
  },
  {
   "cell_type": "code",
   "execution_count": 81,
   "metadata": {},
   "outputs": [
    {
     "data": {
      "text/plain": [
       "['order_id',\n",
       " 'id',\n",
       " 'name',\n",
       " 'popularity',\n",
       " 'duration_ms',\n",
       " 'explicit',\n",
       " 'artists',\n",
       " 'id_artists',\n",
       " 'release_date',\n",
       " 'danceability',\n",
       " 'energy',\n",
       " 'key',\n",
       " 'loudness',\n",
       " 'mode',\n",
       " 'speechiness',\n",
       " 'acousticness',\n",
       " 'instrumentalness',\n",
       " 'liveness',\n",
       " 'valence',\n",
       " 'tempo',\n",
       " 'time_signature',\n",
       " 'timestamp']"
      ]
     },
     "execution_count": 81,
     "metadata": {},
     "output_type": "execute_result"
    }
   ],
   "source": [
    "df.columns"
   ]
  },
  {
   "cell_type": "code",
   "execution_count": 82,
   "metadata": {},
   "outputs": [],
   "source": [
    "df = df.sort(df.release_date.desc())"
   ]
  },
  {
   "cell_type": "code",
   "execution_count": null,
   "metadata": {},
   "outputs": [],
   "source": []
  },
  {
   "cell_type": "code",
   "execution_count": 83,
   "metadata": {},
   "outputs": [
    {
     "name": "stdout",
     "output_type": "stream",
     "text": [
      "+--------+--------------------+--------------------+----------+-----------+--------+--------------------+--------------------+------------+------------+------+---+--------+----+-----------+------------+----------------+--------+-------+-------+--------------+--------------------+--------------------+\n",
      "|order_id|                  id|                name|popularity|duration_ms|explicit|             artists|          id_artists|release_date|danceability|energy|key|loudness|mode|speechiness|acousticness|instrumentalness|liveness|valence|  tempo|time_signature|           timestamp|            features|\n",
      "+--------+--------------------+--------------------+----------+-----------+--------+--------------------+--------------------+------------+------------+------+---+--------+----+-----------+------------+----------------+--------+-------+-------+--------------+--------------------+--------------------+\n",
      "|     149|2wAfHM7Whz67VFbda...|Nobody Knows You ...|        41|   177133.0|       0|         BessieSmith| ESobCkcJItIMxQttqeg|        1923|       0.614|0.0423|  4| -12.033|   1|     0.0535|       0.996|         0.00293|   0.183|  0.211| 89.822|           4.0|2021-06-05 22:28:...|[177133.0,0.0,0.6...|\n",
      "|     150|3eMrYc092k7SIJfWJ...|        Weather Bird|        38|   161933.0|       0|LouisArmstrongEar...|eLuQmkaCobbVDHcee...|        1923|       0.831| 0.262|  8| -12.386|   1|     0.0942|       0.984|           0.912|   0.204|  0.901|104.606|           4.0|2021-06-05 22:28:...|[161933.0,0.0,0.8...|\n",
      "+--------+--------------------+--------------------+----------+-----------+--------+--------------------+--------------------+------------+------------+------+---+--------+----+-----------+------------+----------------+--------+-------+-------+--------------+--------------------+--------------------+\n",
      "only showing top 2 rows\n",
      "\n"
     ]
    }
   ],
   "source": [
    "from pyspark.ml.feature import VectorAssembler\n",
    "assembler=VectorAssembler(inputCols=[\n",
    " 'duration_ms',\n",
    " 'explicit',\n",
    " 'danceability',\n",
    " 'energy',\n",
    " 'key',\n",
    " 'loudness',\n",
    " 'mode',\n",
    " 'speechiness',\n",
    " 'acousticness',\n",
    " 'instrumentalness',\n",
    " 'liveness',\n",
    " 'valence',\n",
    " 'tempo'], outputCol='features')\n",
    "assembled_data=assembler.setHandleInvalid(\"skip\").transform(df)\n",
    "assembled_data.show(2)"
   ]
  },
  {
   "cell_type": "code",
   "execution_count": 84,
   "metadata": {},
   "outputs": [
    {
     "name": "stdout",
     "output_type": "stream",
     "text": [
      "+--------+--------------------+--------------------+----------+-----------+--------+--------------------+--------------------+------------+------------+------+---+--------+----+-----------+------------+----------------+--------+-------+-------+--------------+--------------------+--------------------+--------------------+\n",
      "|order_id|                  id|                name|popularity|duration_ms|explicit|             artists|          id_artists|release_date|danceability|energy|key|loudness|mode|speechiness|acousticness|instrumentalness|liveness|valence|  tempo|time_signature|           timestamp|            features|        standardized|\n",
      "+--------+--------------------+--------------------+----------+-----------+--------+--------------------+--------------------+------------+------------+------+---+--------+----+-----------+------------+----------------+--------+-------+-------+--------------+--------------------+--------------------+--------------------+\n",
      "|     149|2wAfHM7Whz67VFbda...|Nobody Knows You ...|        41|   177133.0|       0|         BessieSmith| ESobCkcJItIMxQttqeg|        1923|       0.614|0.0423|  4| -12.033|   1|     0.0535|       0.996|         0.00293|   0.183|  0.211| 89.822|           4.0|2021-06-05 22:28:...|[177133.0,0.0,0.6...|[4.32229319100286...|\n",
      "|     150|3eMrYc092k7SIJfWJ...|        Weather Bird|        38|   161933.0|       0|LouisArmstrongEar...|eLuQmkaCobbVDHcee...|        1923|       0.831| 0.262|  8| -12.386|   1|     0.0942|       0.984|           0.912|   0.204|  0.901|104.606|           4.0|2021-06-05 22:28:...|[161933.0,0.0,0.8...|[3.95139191059072...|\n",
      "+--------+--------------------+--------------------+----------+-----------+--------+--------------------+--------------------+------------+------------+------+---+--------+----+-----------+------------+----------------+--------+-------+-------+--------------+--------------------+--------------------+--------------------+\n",
      "only showing top 2 rows\n",
      "\n"
     ]
    }
   ],
   "source": [
    "from pyspark.ml.feature import StandardScaler\n",
    "scale=StandardScaler(inputCol='features',outputCol='standardized')\n",
    "data_scale=scale.fit(assembled_data)\n",
    "df=data_scale.transform(assembled_data)\n",
    "df.show(2)"
   ]
  },
  {
   "cell_type": "code",
   "execution_count": null,
   "metadata": {},
   "outputs": [],
   "source": []
  },
  {
   "cell_type": "code",
   "execution_count": 51,
   "metadata": {},
   "outputs": [
    {
     "name": "stdout",
     "output_type": "stream",
     "text": [
      "+--------+--------------------+--------------------+----------+-----------+--------+--------------+-------------------+-------------------+------------+------+----+--------+----+-----------+------------+----------------+--------+-------+-------+--------------+--------------------+\n",
      "|order_id|                  id|                name|popularity|duration_ms|explicit|       artists|         id_artists|       release_date|danceability|energy| key|loudness|mode|speechiness|acousticness|instrumentalness|liveness|valence|  tempo|time_signature|           timestamp|\n",
      "+--------+--------------------+--------------------+----------+-----------+--------+--------------+-------------------+-------------------+------------+------+----+--------+----+-----------+------------+----------------+--------+-------+-------+--------------+--------------------+\n",
      "|     153|6XTvSCqGLLH0vzQQR...|     Empty Bed Blues|      null|       27.0|  181173|             0|        BessieSmith|ESobCkcJItIMxQttqeg|      1923.0| 0.709|null|     5.0|null|        1.0|       0.048|           0.995| 0.00341|   0.12|  0.553|        85.854|2021-06-05 22:28:...|\n",
      "|     152|7lRFR5GJCxK87ZbVM...|   Ain't Misbehavin'|        28|   192600.0|       0|LouisArmstrong| eLuQmkaCobbVDHceek|               1923|       0.665| 0.254|   8|  -9.879|   1|      0.108|       0.976|         0.00217|   0.644|  0.503|125.734|           4.0|2021-06-05 22:28:...|\n",
      "|     149|2wAfHM7Whz67VFbda...|Nobody Knows You ...|        41|   177133.0|       0|   BessieSmith|ESobCkcJItIMxQttqeg|               1923|       0.614|0.0423|   4| -12.033|   1|     0.0535|       0.996|         0.00293|   0.183|  0.211| 89.822|           4.0|2021-06-05 22:28:...|\n",
      "+--------+--------------------+--------------------+----------+-----------+--------+--------------+-------------------+-------------------+------------+------+----+--------+----+-----------+------------+----------------+--------+-------+-------+--------------+--------------------+\n",
      "only showing top 3 rows\n",
      "\n"
     ]
    }
   ],
   "source": [
    "df.show(3)"
   ]
  },
  {
   "cell_type": "code",
   "execution_count": 85,
   "metadata": {},
   "outputs": [
    {
     "name": "stdout",
     "output_type": "stream",
     "text": [
      "Silhouette Score: 0.39809572767779416\n",
      "Silhouette Score: 0.3609279301864996\n",
      "Silhouette Score: 0.3908633535208746\n",
      "Silhouette Score: 0.3399400685007238\n",
      "Silhouette Score: 0.33963130880739584\n",
      "Silhouette Score: 0.3693245551784773\n",
      "Silhouette Score: 0.3406402022810879\n",
      "Silhouette Score: 0.29151381255853226\n"
     ]
    }
   ],
   "source": [
    "from pyspark.ml.clustering import KMeans\n",
    "from pyspark.ml.evaluation import ClusteringEvaluator\n",
    "silhouette_score=[]\n",
    "evaluator = ClusteringEvaluator(predictionCol='prediction', featuresCol='standardized', \\\n",
    "                                metricName='silhouette', distanceMeasure='squaredEuclidean')\n",
    "for i in range(2,10):\n",
    "    \n",
    "    KMeans_algo=KMeans(featuresCol='standardized', k=i)\n",
    "    \n",
    "    KMeans_fit=KMeans_algo.fit(df)\n",
    "    \n",
    "    output=KMeans_fit.transform(df)\n",
    "    \n",
    "    \n",
    "    \n",
    "    score=evaluator.evaluate(output)\n",
    "    \n",
    "    silhouette_score.append(score)\n",
    "    \n",
    "    print(\"Silhouette Score:\",score)"
   ]
  },
  {
   "cell_type": "code",
   "execution_count": null,
   "metadata": {},
   "outputs": [],
   "source": []
  },
  {
   "cell_type": "code",
   "execution_count": 87,
   "metadata": {},
   "outputs": [
    {
     "data": {
      "text/plain": [
       "Text(0, 0.5, 'cost')"
      ]
     },
     "execution_count": 87,
     "metadata": {},
     "output_type": "execute_result"
    },
    {
     "data": {
      "image/png": "[encoded data removed]",
      "text/plain": [
       "<Figure size 576x432 with 1 Axes>"
      ]
     },
     "metadata": {
      "needs_background": "light"
     },
     "output_type": "display_data"
    }
   ],
   "source": [
    "#Visualizing the silhouette scores in a plot\n",
    "import matplotlib.pyplot as plt\n",
    "fig, ax = plt.subplots(1,1, figsize =(8,6))\n",
    "ax.plot(range(2,10),silhouette_score)\n",
    "ax.set_xlabel(\"k\")\n",
    "ax.set_ylabel(\"cost\")"
   ]
  },
  {
   "cell_type": "code",
   "execution_count": null,
   "metadata": {},
   "outputs": [],
   "source": []
  }
 ],
 "metadata": {
  "kernelspec": {
   "display_name": "Python 3",
   "language": "python",
   "name": "python3"
  },
  "language_info": {
   "codemirror_mode": {
    "name": "ipython",
    "version": 3
   },
   "file_extension": ".py",
   "mimetype": "text/x-python",
   "name": "python",
   "nbconvert_exporter": "python",
   "pygments_lexer": "ipython3",
   "version": "3.7.6"
  }
 },
 "nbformat": 4,
 "nbformat_minor": 4
}
