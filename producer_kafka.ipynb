{
 "cells": [
  {
   "cell_type": "code",
   "execution_count": null,
   "metadata": {},
   "outputs": [],
   "source": [
    "from kafka import KafkaProducer\n",
    "from datetime import datetime\n",
    "import time\n",
    "from json import dumps\n",
    "import pandas as pd\n",
    "import random\n",
    "\n",
    "KAFKA_TOPIC_NAME_CONS = \"songTopic\"\n",
    "KAFKA_BOOTSTRAP_SERVERS_CONS = 'localhost:9092'\n",
    "\n",
    "if __name__ == \"__main__\":\n",
    "    print(\"Kafka Producer Application Started ... \")\n",
    "\n",
    "    kafka_producer_obj = KafkaProducer(bootstrap_servers=KAFKA_BOOTSTRAP_SERVERS_CONS,\n",
    "                                       value_serializer=lambda x: dumps(x).encode('utf-8'))\n",
    "    \n",
    "    filepath = \"data/Spotify.csv\"\n",
    "    \n",
    "    songs_df = pd.read_csv(filepath)\n",
    "    \n",
    "    print(songs_df.head(1))\n",
    "    \n",
    "    song_list = songs_df.to_dict(orient=\"records\")\n",
    "    \n",
    "    print(song_list[0])\n",
    "    \n",
    "    for songs in song_list:\n",
    "        message = songs\n",
    "        print(\"Message to be sent: \", message)\n",
    "        kafka_producer_obj.send(KAFKA_TOPIC_NAME_CONS, message)\n",
    "        time.sleep(5)\n",
    "    \n",
    "\n",
    "    "
   ]
  }
 ],
 "metadata": {
  "kernelspec": {
   "display_name": "Python 3",
   "language": "python",
   "name": "python3"
  },
  "language_info": {
   "codemirror_mode": {
    "name": "ipython",
    "version": 3
   },
   "file_extension": ".py",
   "mimetype": "text/x-python",
   "name": "python",
   "nbconvert_exporter": "python",
   "pygments_lexer": "ipython3",
   "version": "3.7.6"
  }
 },
 "nbformat": 4,
 "nbformat_minor": 4
}
