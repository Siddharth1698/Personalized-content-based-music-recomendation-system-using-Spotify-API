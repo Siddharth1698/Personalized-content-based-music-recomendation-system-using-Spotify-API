{
 "cells": [
  {
   "cell_type": "code",
   "execution_count": null,
   "metadata": {},
   "outputs": [],
   "source": [
    "from kafka import KafkaConsumer\n",
    "from json import loads\n",
    "\n",
    "KAFKA_CONSUMER_GROUP_NAME_CONS = \"test_consumer_group\"\n",
    "KAFKA_TOPIC_NAME_CONS = \"songTopic\"\n",
    "KAFKA_BOOTSTRAP_SERVERS_CONS = 'localhost:9092'\n",
    "\n",
    "if __name__ == \"__main__\":\n",
    "\n",
    "    print(\"Kafka Consumer Application Started ... \")\n",
    "    try:\n",
    "        # auto_offset_reset='latest'\n",
    "        # auto_offset_reset='earliest'\n",
    "        consumer = KafkaConsumer(\n",
    "        KAFKA_TOPIC_NAME_CONS,\n",
    "        bootstrap_servers=KAFKA_BOOTSTRAP_SERVERS_CONS,\n",
    "        auto_offset_reset='latest',\n",
    "        enable_auto_commit=True,\n",
    "        group_id=KAFKA_CONSUMER_GROUP_NAME_CONS,\n",
    "        value_deserializer=lambda x: loads(x.decode('utf-8')))\n",
    "\n",
    "        for message in consumer:\n",
    "            #print(dir(message))\n",
    "            #print(type(message))\n",
    "            print(\"Key: \", message.key)\n",
    "            message = message.value\n",
    "            print(\"Message received: \", message)\n",
    "    except Exception as ex:\n",
    "        print(\"Failed to read kafka message.\")\n",
    "        print(ex)"
   ]
  },
  {
   "cell_type": "code",
   "execution_count": null,
   "metadata": {},
   "outputs": [],
   "source": [
    "print(message)"
   ]
  },
  {
   "cell_type": "code",
   "execution_count": null,
   "metadata": {},
   "outputs": [],
   "source": []
  }
 ],
 "metadata": {
  "kernelspec": {
   "display_name": "Python 3",
   "language": "python",
   "name": "python3"
  },
  "language_info": {
   "codemirror_mode": {
    "name": "ipython",
    "version": 3
   },
   "file_extension": ".py",
   "mimetype": "text/x-python",
   "name": "python",
   "nbconvert_exporter": "python",
   "pygments_lexer": "ipython3",
   "version": "3.7.6"
  }
 },
 "nbformat": 4,
 "nbformat_minor": 4
}
